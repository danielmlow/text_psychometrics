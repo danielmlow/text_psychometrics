{
 "cells": [
  {
   "cell_type": "code",
   "execution_count": null,
   "id": "faa40554-7e2a-4159-a3bc-fe1ba968e1c2",
   "metadata": {},
   "outputs": [],
   "source": [
    "#!pip install -q fast-ml"
   ]
  },
  {
   "cell_type": "code",
   "execution_count": null,
   "id": "b7984591-220e-48a0-807f-1ff3dc5a4512",
   "metadata": {},
   "outputs": [],
   "source": [
    "import os\n",
    "# os.chdir(os.path.dirname('/Users/danielmlow/Dropbox (MIT)/datum/ctl/'))\n",
    "# import pickle \n",
    "from collections import defaultdict\n",
    "import re\n",
    "import pandas as pd\n",
    "import numpy as np\n",
    "import sys\n",
    "import pickle\n",
    "# sys.path.insert(1,'./../concept-tracker') # okay for python terminal interactive console\n",
    "sys.path.insert(1,'/Users/danielmlow/Dropbox (MIT)/datum/concept-tracker') # needed for jupyter interactive panel #TODO install\n",
    "from concept_tracker.utils.datetime_conversions import list_months_between_interval\n",
    "from sklearn.model_selection import train_test_split\n",
    "pd.set_option(\"display.max_columns\", None)\n",
    "\n"
   ]
  },
  {
   "cell_type": "code",
   "execution_count": null,
   "id": "0533aeac-744f-40c9-b4ae-ea5f6550b1c4",
   "metadata": {},
   "outputs": [],
   "source": [
    "import datetime\n",
    "ts = datetime.datetime.utcnow().strftime('%y-%m-%dT%H-%M-%S')"
   ]
  },
  {
   "cell_type": "code",
   "execution_count": null,
   "id": "7ca033d1-6354-47b6-9bb8-3c4afb6ccda7",
   "metadata": {},
   "outputs": [],
   "source": [
    "input_dir = './../../../data/ctl/'\n",
    "output_dir = './data/input/ctl/'\n"
   ]
  },
  {
   "cell_type": "code",
   "execution_count": null,
   "id": "e4e59ec7",
   "metadata": {},
   "outputs": [],
   "source": [
    "import datetime\n",
    "def generate_timestamp(format = '%y-%m-%dT%H-%M-%S'):\n",
    "\tts = datetime.datetime.utcnow().strftime(format) # so you don't overwrite, and save timestamp\n",
    "\treturn ts"
   ]
  },
  {
   "cell_type": "markdown",
   "id": "7a11e8ee-3d0a-4dce-858e-d0f8d27814a5",
   "metadata": {
    "tags": []
   },
   "source": [
    "# Split into train-val-test sets"
   ]
  },
  {
   "cell_type": "markdown",
   "id": "737a68a7-c1f9-405c-9f5a-96bdc1a3779d",
   "metadata": {},
   "source": [
    "### From 2016 when we have tags (from 2016-03-05)"
   ]
  },
  {
   "cell_type": "code",
   "execution_count": null,
   "id": "d986504b-accf-4c04-bc6f-09b6e306e12c",
   "metadata": {},
   "outputs": [],
   "source": [
    "year_months = list_months_between_interval(start='2017-01-01', end='2023-01-01')\n",
    "years = [2017, 2018, 2019, 2022] #removed 2020 and 2021, heavily biased by the pandemic"
   ]
  },
  {
   "cell_type": "code",
   "execution_count": null,
   "id": "ae55dc54-d437-4606-9510-22e8bf6bdd8e",
   "metadata": {},
   "outputs": [],
   "source": [
    "%%time\n",
    "convo_ids_all = [] \n",
    "years_all = []\n",
    "for year in years:\n",
    "    metadata_i = pd.read_parquet(input_dir+f'raw_data/tags_risk_{year}_dummyvars.gzip', engine='pyarrow')        \n",
    "    convo_ids = metadata_i['conversation_id'].values\n",
    "    convo_ids_all.append(convo_ids)\n",
    "    years_all.append([year]*len(convo_ids))\n",
    "\n",
    "    "
   ]
  },
  {
   "cell_type": "code",
   "execution_count": null,
   "id": "9ff963db-178e-49cb-9dff-6667b5174fe3",
   "metadata": {},
   "outputs": [],
   "source": [
    "convo_ids_all = [n for i in convo_ids_all for n in i]\n",
    "years_all = [n for i in years_all for n in i]\n"
   ]
  },
  {
   "cell_type": "code",
   "execution_count": null,
   "id": "90e5fed6-bdc5-4d49-a464-77335ee18203",
   "metadata": {},
   "outputs": [],
   "source": [
    "len(convo_ids_all)"
   ]
  },
  {
   "cell_type": "code",
   "execution_count": null,
   "id": "296488c2-0a6f-4e6c-b802-da4903680706",
   "metadata": {},
   "outputs": [],
   "source": [
    "# convo_train, years_train, convo_val, years_val, convo_test, years_test = train_valid_test_split(df, target = 'SalePrice', \n",
    "                                                                            # train_size=0.8, valid_size=0.1, test_size=0.1)\n"
   ]
  },
  {
   "cell_type": "code",
   "execution_count": null,
   "id": "d434d9b1-805c-46cd-96ca-d2fca15a9388",
   "metadata": {},
   "outputs": [],
   "source": [
    "convo_ids_train, convo_ids_valtest, years_train, years_valtest = train_test_split(convo_ids_all, years_all, test_size = 0.2, random_state=123)\n",
    "convo_ids_val, convo_ids_test, years_val, years_test = train_test_split(convo_ids_valtest, years_val_test, test_size = 0.5, random_state=123)\n"
   ]
  },
  {
   "cell_type": "code",
   "execution_count": null,
   "id": "be032186-631f-4962-895f-afa85cda7dcc",
   "metadata": {},
   "outputs": [],
   "source": [
    "print('train:', len(convo_ids_train))\n",
    "print('val:', len(convo_ids_val))\n",
    "print('test:', len(convo_ids_test))"
   ]
  },
  {
   "cell_type": "code",
   "execution_count": null,
   "id": "35a91300-9d76-4635-a47b-8e6320a237fa",
   "metadata": {},
   "outputs": [],
   "source": [
    "from collections import Counter\n",
    "import matplotlib.pyplot as plt\n",
    "for years_set, name in zip([years_train, years_val, years_test], ['train', 'val', 'test']):\n",
    "    counts = Counter(years_set)\n",
    "    print(name, counts)\n",
    "    # plt.bar(x=counts.keys(), height = counts.values())\n",
    "    # plt.title(name)\n",
    "    # plt.show()"
   ]
  },
  {
   "cell_type": "markdown",
   "id": "9af8ea7a-ba93-44df-97cf-a622cb17a617",
   "metadata": {},
   "source": [
    "### Obtain smaller set for concurrent validity"
   ]
  },
  {
   "cell_type": "code",
   "execution_count": null,
   "id": "a99fa8db-8743-40d4-8589-36f869a7311e",
   "metadata": {},
   "outputs": [],
   "source": [
    "convo_ids_train90, convo_ids_train10, years_train90, years_train10 = train_test_split(convo_ids_train, years_train, test_size = 0.1, random_state=123)\n"
   ]
  },
  {
   "cell_type": "code",
   "execution_count": null,
   "id": "0180e676-4572-4cae-9e3e-3c6590a71850",
   "metadata": {},
   "outputs": [],
   "source": [
    "print(len(convo_ids_train90), len(convo_ids_train10))"
   ]
  },
  {
   "cell_type": "code",
   "execution_count": null,
   "id": "34de0e31-3113-4d51-8919-d8244e626324",
   "metadata": {},
   "outputs": [],
   "source": []
  },
  {
   "cell_type": "markdown",
   "id": "f6d163b7-9468-4b1e-82b8-be88ad9ab434",
   "metadata": {
    "tags": []
   },
   "source": [
    "# From train_10 create train10 train, val, test pkl splits"
   ]
  },
  {
   "cell_type": "code",
   "execution_count": null,
   "id": "da62d52a-5bfb-4b04-a934-163e10f1f324",
   "metadata": {},
   "outputs": [],
   "source": [
    "convo_ids_train10_train, convo_ids_train10_valtest, years_train10_train, years_train10_valtest = train_test_split(convo_ids_train_10, years_train10, test_size = 0.2, random_state=123)\n",
    "convo_ids_train10_val, convo_ids_train10_test, years_train10_val, years_train10_test = train_test_split(convo_ids_train10_valtest, years_train10_valtest, test_size = 0.5, random_state=123)\n"
   ]
  },
  {
   "cell_type": "code",
   "execution_count": null,
   "id": "598a901d-715b-45f8-a57e-67b5f3779066",
   "metadata": {},
   "outputs": [],
   "source": [
    "print(len(convo_ids_train10_train), len(convo_ids_train10_val),len(convo_ids_train10_test))"
   ]
  },
  {
   "cell_type": "code",
   "execution_count": null,
   "id": "c4492bf4-e4e2-4300-a241-8e3bdce1ef23",
   "metadata": {},
   "outputs": [],
   "source": []
  },
  {
   "cell_type": "code",
   "execution_count": null,
   "id": "402b614f-ff0f-4967-bffa-0905917a6387",
   "metadata": {},
   "outputs": [],
   "source": [
    "sets = [\n",
    "    [years_train, convo_ids_train], \n",
    "    [years_val, convo_ids_val], \n",
    "    [years_test, convo_ids_test], \n",
    "    [years_train90, convo_ids_train90], \n",
    "    [years_train10_train, convo_ids_train10_train],\n",
    "    [years_train10_val, convo_ids_train10_val],\n",
    "    [years_train10_test, convo_ids_train10_test],\n",
    "    ]"
   ]
  },
  {
   "cell_type": "code",
   "execution_count": null,
   "id": "e71c09c3-eac6-4f86-bcaa-dbca85ac4a81",
   "metadata": {},
   "outputs": [],
   "source": [
    "sets_names = [\n",
    "    'train', \n",
    "    'val', \n",
    "    'test', \n",
    "    'train90', \n",
    "    'train10_train',\n",
    "    'train10_val',\n",
    "    'train10_test',\n",
    "]\n"
   ]
  },
  {
   "cell_type": "code",
   "execution_count": null,
   "id": "06ad218a-d293-44c6-9491-3d61adb818f5",
   "metadata": {},
   "outputs": [],
   "source": [
    "input_dir"
   ]
  },
  {
   "cell_type": "code",
   "execution_count": null,
   "id": "8f8a14b1-335b-4b40-b5f3-37e93cd3d755",
   "metadata": {},
   "outputs": [],
   "source": [
    "\n",
    "\n",
    "os.makedirs('./data/input/train_test_split_ids/', exist_ok=True)"
   ]
  },
  {
   "cell_type": "code",
   "execution_count": null,
   "id": "64ab2e55-2fef-41f5-a4c7-dc96956bcf6d",
   "metadata": {},
   "outputs": [],
   "source": [
    "d"
   ]
  },
  {
   "cell_type": "code",
   "execution_count": null,
   "id": "347bb599-0f97-4b42-8491-fe0607deb647",
   "metadata": {},
   "outputs": [],
   "source": [
    "years = ['a','b','a','b','a','b']\n",
    "convo_ids = [1,2,3,4,5,6]\n",
    "\n",
    "d = defaultdict(list)\n",
    "for A, B in zip(years, convo_ids):\n",
    "    d[A].append(B)\n",
    "    \n",
    "d"
   ]
  },
  {
   "cell_type": "code",
   "execution_count": null,
   "id": "695075d9-fd2f-4fd8-9225-f495890e3018",
   "metadata": {},
   "outputs": [],
   "source": [
    "%%time \n",
    "# 19 s\n",
    "run_this = False\n",
    "\n",
    "if run_this:\n",
    "\n",
    "    for (years, convo_ids), name in zip(sets, sets_names):\n",
    "        d = defaultdict(list)\n",
    "        for A, B in zip(years, convo_ids):\n",
    "            d[A].append(B)\n",
    "\n",
    "        with open(input_dir+f'train_test_split_ids/{name}.pkl', 'wb') as f:\n",
    "            pickle.dump(d, f)\n",
    "\n"
   ]
  },
  {
   "cell_type": "markdown",
   "id": "0c25ff45-0543-442a-97fb-93ff7ee6e2ec",
   "metadata": {},
   "source": [
    "# Build metadata.csv"
   ]
  },
  {
   "cell_type": "markdown",
   "id": "3f932d7d-59c4-4b52-b7dd-083d897ffd44",
   "metadata": {
    "tags": []
   },
   "source": [
    "### Choose tags"
   ]
  },
  {
   "cell_type": "code",
   "execution_count": null,
   "id": "4dd04c0f-3bd2-4ef3-b941-43f3f190c487",
   "metadata": {},
   "outputs": [],
   "source": [
    "high_risk_tags = ['ir_flag', 'active_rescue','suicidal_capability',\n",
    "       'suicidal_desire', 'suicidal_intent', 'timeframe', 'perceived_risk']"
   ]
  },
  {
   "cell_type": "code",
   "execution_count": null,
   "id": "bb9c7598-a074-4bad-a8ee-6f71e5bc1f02",
   "metadata": {},
   "outputs": [],
   "source": [
    "tags_alphabetical = ['3rd_party',\n",
    " 'abuse_emotional',\n",
    " 'abuse_physical',\n",
    " 'abuse_sexual',\n",
    " # 'abuse_unspecified',\n",
    " 'anxiety',\n",
    " 'bereavement',\n",
    " 'bully',\n",
    " 'covid_19',\n",
    " 'depressed',\n",
    " 'domestic_violence',\n",
    " 'eating',\n",
    " 'election',\n",
    " 'family',\n",
    " 'financial',\n",
    " 'friend',\n",
    " 'gender',\n",
    " 'homeless',\n",
    " 'homicide',\n",
    " 'immigration',\n",
    " 'isolated',\n",
    " 'medical',\n",
    " 'medication',\n",
    " 'mental',\n",
    " 'military',\n",
    " 'none',\n",
    " 'other',\n",
    " 'out_of_country',\n",
    " 'prank',\n",
    " 'psychiatric_hospitalization',\n",
    " 'racism',\n",
    " 'relationship',\n",
    " 'school',\n",
    " 'self_harm',\n",
    " 'sexual_assault',\n",
    " 'stress',\n",
    " 'substance',\n",
    " 'suicide',\n",
    " 'testing',\n",
    " 'therapist_psychiatrist',\n",
    " 'work']"
   ]
  },
  {
   "cell_type": "code",
   "execution_count": null,
   "id": "e5c08a19-4b12-479f-be1d-e84e61705967",
   "metadata": {},
   "outputs": [],
   "source": [
    "\n",
    "cols_to_merge_d = {\n",
    "     'work':'work_financial', #only exists pre 2018\n",
    "     'financial':'work_financial', #only exists pre 2018\n",
    "    'sexual_assault':'abuse_sexual', #changed names\n",
    "    'anxiety':'anxiety_stress', #was an option for counselors \"Anxiety/Stress\"\n",
    "    'stress':'anxiety_stress', \n",
    "\n",
    "     # 'abuse_phyiscal':'abuse_physical',\n",
    "     # 'abuse_physical':'abuse_physical',\n",
    "     # 'physical_abuse':'abuse_physical',\n",
    "     # 'abuse_sexual':'abuse_sexual',\n",
    "     # 'abuse_unspecified':'abuse',\n",
    "     # 'domestic_violence':'domestic_violence',\n",
    "     # 'sexual_abuse':'abuse_sexual',\n",
    "\n",
    "     # 'alcohol': 'substance',\n",
    "     # 'relationship_violence':'relationship',\n",
    "     # 'family':'relationship',\n",
    "     # 'friend':'relationship',\n",
    "     'hunger':'eating_body_image',\n",
    "    'eating':'eating_body_image',\n",
    "    \n",
    "     'gender':'gender_sexual_identity'\n",
    "    }\n",
    "\n",
    "def merge_cols(df, cols_to_merge_d):\n",
    "    \n",
    "    for key, value in cols_to_merge_d.items():\n",
    "        if not value in df.columns:\n",
    "            df[value] = 0\n",
    "        try:\n",
    "            df[value] += df[key]\n",
    "        except:\n",
    "            pass\n",
    "    for key in cols_to_merge_d.keys():\n",
    "        try: df = df.drop(key,axis=1)\n",
    "        except:\n",
    "            pass\n",
    "    return df"
   ]
  },
  {
   "cell_type": "code",
   "execution_count": null,
   "id": "5c487009-9b9c-4c35-9eff-0a83a2898283",
   "metadata": {},
   "outputs": [],
   "source": [
    "tags_high_freq = [\n",
    "    'depressed',\n",
    " 'relationship',\n",
    " 'anxiety',\n",
    " 'suicide',\n",
    " 'none',\n",
    " 'isolated',\n",
    " # 'other',\n",
    " 'self_harm',\n",
    " 'bereavement',\n",
    " # '3rd_party',\n",
    " 'eating',\n",
    " 'abuse_emotional',\n",
    " 'family',\n",
    " # 'testing',\n",
    " 'bully',\n",
    " 'substance',\n",
    " 'abuse_sexual',\n",
    " 'covid_19',\n",
    " 'gender',\n",
    " 'abuse_physical',\n",
    " 'stress',\n",
    " 'friend',\n",
    " 'school',\n",
    " # 'abuse_unspecified',\n",
    " # 'prank',\n",
    " # 'mental',\n",
    " 'work',\n",
    " 'financial',\n",
    " # 'medical',\n",
    " 'therapist_psychiatrist',\n",
    " 'medication',\n",
    " 'sexual_assault',\n",
    " # 'homeless',\n",
    " # 'domestic_violence',#low frequency\n",
    " # 'psychiatric_hospitalization', #4500 in 2017\n",
    " # 'racism', #3k across the years\n",
    " # 'election', #2.5k across the years\n",
    " # 'military',\n",
    " # 'homicide',\n",
    " # 'immigration',\n",
    " # 'out_of_country'\n",
    "]\n",
    "\n",
    "\n",
    "\n",
    "\n",
    "# create a dataset for concurrent\n",
    "concurrent_variables = np.unique(high_risk_tags+tags_high_freq+list(cols_to_merge_d.values()))\n",
    "concurrent_variables        \n"
   ]
  },
  {
   "cell_type": "code",
   "execution_count": null,
   "id": "d15b5999-8399-4ea3-8ac4-f7be5481c3a7",
   "metadata": {},
   "outputs": [],
   "source": [
    "# 'train10_train' was done \n",
    "\n",
    "os.listdir(input_dir)\n",
    "\n",
    "\n",
    "    "
   ]
  },
  {
   "cell_type": "code",
   "execution_count": null,
   "id": "1cd0241e-a8c1-4df6-a87f-341b74785061",
   "metadata": {},
   "outputs": [],
   "source": [
    "%%time\n",
    "# create DF from convo IDs\n",
    "\n",
    "run_this = False\n",
    "\n",
    "\n",
    "if run_this:\n",
    "\n",
    "\tfor set_name in ['train10_train', 'train10_val', 'train10_test']:\n",
    "\t# for set_name in ['train10_train']:\n",
    "\n",
    "\t\twith open(input_dir+f'train_test_split_ids/{set_name}.pkl', 'rb') as f:\n",
    "\t\t\td = pickle.load(f)\n",
    "\n",
    "\t\tdf_set = []\n",
    "\n",
    "\t\tfor year in [2017,2018,2019,2022]:\n",
    "\t\t\td_year_ids = d.get(year)\n",
    "\t\t\tdf_year = pd.read_parquet(input_dir+f'raw_data/tags_risk_{year}_dummyvars.gzip', engine='pyarrow')        \n",
    "\t\t\tdf_year_set = df_year[df_year['conversation_id'].isin(d_year_ids)]\n",
    "\t\t\tdf_set.append(df_year_set)\n",
    "\n",
    "\t\tdf_set = pd.concat(df_set).reset_index(drop=True)    \n",
    "\t\tos.makedirs(input_dir+f'datasets', exist_ok=True)\n",
    "\t\tdf_set.to_csv(input_dir+f'datasets/{set_name}_metadata.csv')"
   ]
  },
  {
   "cell_type": "markdown",
   "id": "55ed4197",
   "metadata": {},
   "source": [
    "# metadata_csv to train10_train_concurrent_metadata (balanced 3k each crisis)\n"
   ]
  },
  {
   "cell_type": "code",
   "execution_count": null,
   "id": "40dd88e1-0ec5-4516-a071-3bc0bc99a366",
   "metadata": {},
   "outputs": [],
   "source": [
    "# Load\n",
    "df_set = pd.read_csv(input_dir+f'datasets/{set_name}_metadata.csv', index_col = 0)\n",
    "df_set.shape"
   ]
  },
  {
   "cell_type": "code",
   "execution_count": null,
   "id": "e506f16a",
   "metadata": {},
   "outputs": [],
   "source": [
    "df_set.columns"
   ]
  },
  {
   "cell_type": "code",
   "execution_count": null,
   "id": "a42b6782-5e2c-44da-a0b3-70a7d81f6b70",
   "metadata": {},
   "outputs": [],
   "source": []
  },
  {
   "cell_type": "code",
   "execution_count": null,
   "id": "cee6b6f2-4c3c-4fe3-990e-f77b1d316c98",
   "metadata": {},
   "outputs": [],
   "source": [
    "concurrent_variables_in_df = [n for n in variables_of_interest if n in df_set.columns]\n",
    "\n",
    "counts = df_set[concurrent_variables_in_df].sum()\n",
    "counts = pd.DataFrame(counts).reset_index()\n",
    "counts.columns = ['construct', 'count']\n",
    "counts.sort_values('count')[::-1]"
   ]
  },
  {
   "cell_type": "code",
   "execution_count": null,
   "id": "fce17596-abe7-413c-9f49-d0d6b79e8ee2",
   "metadata": {},
   "outputs": [],
   "source": [
    "display((df_set[concurrent_variables_in_df].isna().sum()/df_set.shape[0]).round(2))"
   ]
  },
  {
   "cell_type": "code",
   "execution_count": null,
   "id": "c1e2a919-35ac-47f6-b64f-f2ae945d5cdf",
   "metadata": {},
   "outputs": [],
   "source": [
    "df_set.shape"
   ]
  },
  {
   "cell_type": "code",
   "execution_count": null,
   "id": "863fefee-c507-4695-a526-6165f9653dac",
   "metadata": {},
   "outputs": [],
   "source": [
    "df_set2 = merge_cols(df_set, cols_to_merge_d)"
   ]
  },
  {
   "cell_type": "code",
   "execution_count": null,
   "id": "b96e9ba8-f20a-4efd-be9e-2a0ad80aaade",
   "metadata": {},
   "outputs": [],
   "source": [
    "set(df_set2.columns) - set(df_set.columns)"
   ]
  },
  {
   "cell_type": "code",
   "execution_count": null,
   "id": "d2fe3464-9564-4555-b553-0b987d849797",
   "metadata": {},
   "outputs": [],
   "source": [
    "concurrent_variables_in_df = [n for n in concurrent_variables if n in df_set2.columns]\n"
   ]
  },
  {
   "cell_type": "code",
   "execution_count": null,
   "id": "ad2fb667-561c-48ab-805e-a6c484892593",
   "metadata": {},
   "outputs": [],
   "source": [
    "(df_set2[concurrent_variables_in_df].isna().sum()/df_set2.shape[0]).round(2)"
   ]
  },
  {
   "cell_type": "code",
   "execution_count": null,
   "id": "f3b36067-94e5-454d-a0f2-289329c5f421",
   "metadata": {},
   "outputs": [],
   "source": [
    "concurrent_variables_in_df"
   ]
  },
  {
   "cell_type": "code",
   "execution_count": null,
   "id": "3f83efa4-baaa-4cbb-a86a-74f24bca5eb2",
   "metadata": {},
   "outputs": [],
   "source": [
    "counts = df_set2[concurrent_variables_in_df].sum()\n",
    "counts = pd.DataFrame(counts).reset_index()\n",
    "counts.columns = ['construct', 'count']\n",
    "counts.sort_values('count')[::-1]"
   ]
  },
  {
   "cell_type": "code",
   "execution_count": null,
   "id": "c41a93ae-453b-49fd-842c-54b9ee6099e0",
   "metadata": {},
   "outputs": [],
   "source": [
    "counts.sort_values('count')[::-1]['construct'].values"
   ]
  },
  {
   "cell_type": "code",
   "execution_count": null,
   "id": "d0a85b22-d84b-4941-8f79-4776bc3f60e2",
   "metadata": {},
   "outputs": [],
   "source": [
    "concurrent_analysis_vars = concurrent_variables_in_df.copy()\n",
    "drop_cols = ['work_financial', 'covid_19', 'medication', 'active_rescue', 'ir_flag']\n",
    "[concurrent_analysis_vars.remove(n) for n in drop_cols]\n",
    "concurrent_analysis_vars"
   ]
  },
  {
   "cell_type": "code",
   "execution_count": null,
   "id": "6bd13e64-1940-4cce-a5c4-ccd93d135450",
   "metadata": {},
   "outputs": [],
   "source": [
    "drop_cols = ['work_financial', 'covid_19', 'medication', 'active_rescue', 'ir_flag']\n",
    "df_set = df_set.drop(drop_cols, axis=1)"
   ]
  },
  {
   "cell_type": "code",
   "execution_count": null,
   "id": "9c8587f6-7014-45e0-a3cc-3d51af7957eb",
   "metadata": {},
   "outputs": [],
   "source": [
    "print(len(concurrent_analysis_vars))"
   ]
  },
  {
   "cell_type": "code",
   "execution_count": null,
   "id": "6081bcf1-c584-427d-bd63-049c96b2cc00",
   "metadata": {},
   "outputs": [],
   "source": [
    "# Balance: Take n for each construct and concat. This is useful for one vs all classification. \n",
    "concurrent_df_n = 3000\n",
    "\n",
    "concurrent_df = []\n",
    "for variable in concurrent_analysis_vars:\n",
    "    df_set2_variable_i = df_set2[df_set2[variable]==1].sample(n = concurrent_df_n)\n",
    "    concurrent_df.append(df_set2_variable_i)\n",
    "    \n",
    "concurrent_df = pd.concat(concurrent_df).reset_index(drop=True)"
   ]
  },
  {
   "cell_type": "code",
   "execution_count": null,
   "id": "578325cd-5abe-4501-aa4a-b939fc1cf7e6",
   "metadata": {},
   "outputs": [],
   "source": [
    "counts = concurrent_df[concurrent_variables_in_df].sum()\n",
    "counts = pd.DataFrame(counts).reset_index()\n",
    "counts.columns = ['construct', 'count']\n",
    "counts.sort_values('count')[::-1]"
   ]
  },
  {
   "cell_type": "code",
   "execution_count": null,
   "id": "3e53f052-8ab3-4efa-86ba-e930bfd38374",
   "metadata": {},
   "outputs": [],
   "source": [
    "concurrent_df = concurrent_df.drop(\"suicidal_desiGreetings my name is Mark, and I'm here to help. It sounds like suicidal_desire\", axis=1)\n",
    "\n",
    "\n"
   ]
  },
  {
   "cell_type": "code",
   "execution_count": null,
   "id": "b289f518-d2d1-40a8-8b11-fede8a100bd0",
   "metadata": {},
   "outputs": [],
   "source": []
  },
  {
   "cell_type": "markdown",
   "id": "20fa3e5f-d9e0-445d-9955-bd4a161d18e7",
   "metadata": {},
   "source": [
    "### Save DF "
   ]
  },
  {
   "cell_type": "code",
   "execution_count": null,
   "id": "265df6e6-429a-42fd-877b-a6b9ff319490",
   "metadata": {},
   "outputs": [],
   "source": [
    "input_dir"
   ]
  },
  {
   "cell_type": "code",
   "execution_count": null,
   "id": "c0902c88-a188-4488-ba61-db08a862d9e4",
   "metadata": {},
   "outputs": [],
   "source": [
    "concurrent_df = concurrent_df.drop_duplicates('conversation_id')\n",
    "concurrent_df.to_csv(input_dir+'../datasets/train10_train_concurrent_metadata.csv')"
   ]
  },
  {
   "cell_type": "code",
   "execution_count": null,
   "id": "f11a06c1-5833-4990-b05a-4b7531283eb6",
   "metadata": {},
   "outputs": [],
   "source": [
    "# Load\n",
    "df_set = pd.read_csv(input_dir+f'datasets/{set_name}_metadata.csv', index_col = 0)\n",
    "df_set.shape"
   ]
  },
  {
   "cell_type": "markdown",
   "id": "63b10fbe",
   "metadata": {},
   "source": [
    "# train 10 with risk ladders\n",
    "\n",
    "\n"
   ]
  },
  {
   "cell_type": "code",
   "execution_count": null,
   "id": "8bf622b9",
   "metadata": {},
   "outputs": [],
   "source": [
    "def get_true_risk_3(row):\n",
    "\tif (row['3rd_party'] ==1 or row['testing'] == 1 or row['prank'] == 1):\n",
    "\t\treturn -1\n",
    "\telif (row['active_rescue'] > 0 or row['ir_flag'] > 0 or row['timeframe'] > 0):\n",
    "\t\treturn 3 # high risk\n",
    "\telif ('suicidal_desire' in row['suicidality'] or 'suicidal_intent' in row['suicidality'] or 'suicidal_capability' in row['suicidality']  or row['suicide']>0 or row['self_harm']>0): \n",
    "\t\treturn 2 # medium risk\n",
    "\telse:\n",
    "\t\treturn 1 # normal risk\n",
    "\t\n",
    "\n",
    "def get_true_risk_8(row):\n",
    "\tif (row['3rd_party'] ==1 or row['testing'] == 1 or row['prank'] == 1):\n",
    "\t\treturn -1\n",
    "\telif (row['active_rescue'] > 0):\n",
    "\t\treturn 8 # active rescue\n",
    "\t\n",
    "\telif (row['ir_flag'] > 0):\n",
    "\t\treturn 7 # high risk\n",
    "\t\n",
    "\telif (row['timeframe'] > 0):\n",
    "\t\treturn 6 # high risk\n",
    "\t\n",
    "\telif (row['suicidal_capability'] > 0):\n",
    "\t\treturn 5 # high risk\n",
    "\t\n",
    "\telif (row['suicidal_intent']>0):\n",
    "\t\treturn 4\n",
    "\telif row['self_harm']>0:\n",
    "\t\treturn 3\n",
    "\n",
    "\telif (row['suicidal_desire']>0 or row['suicide']>0):\n",
    "\t\treturn 2\n",
    "\telse: \n",
    "\t\treturn 1\n",
    "\t\t\n"
   ]
  },
  {
   "cell_type": "code",
   "execution_count": null,
   "id": "d1560fb6",
   "metadata": {},
   "outputs": [],
   "source": [
    "input_dir = '/Users/danielmlow/data/ctl/input/'"
   ]
  },
  {
   "cell_type": "code",
   "execution_count": null,
   "id": "8a50665d",
   "metadata": {},
   "outputs": [],
   "source": [
    "# OUt of active rescues how many had timeframe tagged\n",
    "metadata_df_i = pd.read_csv(input_dir+f'datasets/train10_test_metadata.csv', index_col=0)\n",
    "\n",
    "display(metadata_df_i[metadata_df_i['active_rescue']==1]['timeframe'].value_counts())\n",
    "display(metadata_df_i[metadata_df_i['active_rescue']==1]['ir_flag'].value_counts())\n",
    "display(metadata_df_i[metadata_df_i['ir_flag']==1]['timeframe'].value_counts())\n",
    "display(metadata_df_i[metadata_df_i['suicidal_intent']==1]['suicidal_desire'].value_counts())\n",
    "display(metadata_df_i[metadata_df_i['suicide']==1]['suicidal_intent'].value_counts())\n",
    "display(metadata_df_i[metadata_df_i['suicidal_intent']==1]['suicidal_capability'].value_counts())"
   ]
  },
  {
   "cell_type": "code",
   "execution_count": null,
   "id": "acccba0c",
   "metadata": {},
   "outputs": [],
   "source": [
    "metadata_df_i.columns"
   ]
  },
  {
   "cell_type": "code",
   "execution_count": null,
   "id": "09b0e2d4",
   "metadata": {},
   "outputs": [],
   "source": [
    "tags_of_interest = ['abuse_emotional', 'abuse_physical', 'abuse_sexual',\n",
    "        'anxiety', 'stress', 'anxiety_stress', 'bereavement',\n",
    "       'bully', 'covid_19', 'depressed', 'eating', 'eating_body_image',\n",
    "       'family', 'financial', 'friend', 'gender',\n",
    "       'gender_sexual_identity', 'isolated', 'medication',\n",
    "       'none', 'relationship', 'school',  'sexual_assault',\n",
    "       'stress', 'substance', \n",
    "         'therapist_psychiatrist',\n",
    "        'work', 'work_financial', \n",
    "\t\t'perceived_risk','self_harm','suicide','suicidal_desire', 'suicidal_intent','suicidal_capability','timeframe', 'ir_flag', 'active_rescue',\n",
    "\t\t'suicide_ladder_a', 'suicide_ladder_b', 'suicide_ladder_c']\n",
    "\n",
    "\n",
    "\n",
    "\n",
    "tags_of_interest_in_df = [n for n in tags_of_interest if n in metadata_df_i.columns]\n",
    "\n",
    "metadata_df_i[tags_of_interest_in_df].sum()"
   ]
  },
  {
   "cell_type": "code",
   "execution_count": null,
   "id": "a79ee4ce",
   "metadata": {},
   "outputs": [],
   "source": [
    "metadata_df_i = pd.read_csv(input_dir+f'datasets/train10_test_metadata.csv', index_col=0)\n",
    "\n",
    "metadata_df_i = metadata_df_i.drop(\"suicidal_desiGreetings my name is Mark, and I'm here to help. It sounds like suicidal_desire\", axis=1)\n",
    "\n",
    "\n",
    "metadata_df_i['suicide_ladder_a'] = [get_true_risk_a(row) for index, row in metadata_df_i.iterrows()]\n",
    "metadata_df_i['suicide_ladder_b'] = [get_true_risk_b(row) for index, row in metadata_df_i.iterrows()]\n",
    "metadata_df_i['suicide_ladder_c'] = [get_true_risk_c(row) for index, row in metadata_df_i.iterrows()]"
   ]
  },
  {
   "cell_type": "code",
   "execution_count": null,
   "id": "323e131e",
   "metadata": {},
   "outputs": [],
   "source": [
    "display(metadata_df_i['suicide_ladder_a'].value_counts())\n",
    "display(metadata_df_i['suicide_ladder_b'].value_counts())\n",
    "display(metadata_df_i['suicide_ladder_c'].value_counts())\n"
   ]
  },
  {
   "cell_type": "code",
   "execution_count": null,
   "id": "503e7ef2",
   "metadata": {},
   "outputs": [],
   "source": [
    "metadata_df_i"
   ]
  },
  {
   "cell_type": "code",
   "execution_count": null,
   "id": "dc1f848b",
   "metadata": {},
   "outputs": [],
   "source": [
    "metadata_df_i"
   ]
  },
  {
   "cell_type": "code",
   "execution_count": null,
   "id": "d0aaa520",
   "metadata": {},
   "outputs": [],
   "source": [
    "# How many suicide risk do we have?\n",
    "\n",
    "input_dir = './../../../data/ctl/input/'\n",
    "\n",
    "run_this = False\n",
    "\n",
    "if run_this:\n",
    "\n",
    "\tfor set_name in ['train10_train', 'train10_val', 'train10_test']:\n",
    "\t\tprint(input_dir+f'datasets/{set_name}_metadata.csv')\n",
    "\t\tmetadata_df_i = pd.read_csv(input_dir+f'datasets/{set_name}_metadata.csv', index_col = 0)\n",
    "\t\t\n",
    "\t\tprint(metadata_df_i.shape)\n",
    "\t\t\n",
    "\t\tmetadata_df_i = metadata_df_i.drop(\"suicidal_desiGreetings my name is Mark, and I'm here to help. It sounds like suicidal_desire\", axis=1)\n",
    "\t\t\n",
    "\t\t\n",
    "\t\tmetadata_df_i['suicide_ladder_3'] = [get_true_risk_3(row) for index, row in metadata_df_i.iterrows()]\n",
    "\t\tmetadata_df_i['suicide_ladder_8'] = [get_true_risk_8(row) for index, row in metadata_df_i.iterrows()]\n",
    "\n",
    "\t\tmetadata_df_i.to_csv(input_dir+f'datasets/{set_name}_metadata.csv')\n",
    "\n",
    "\t\t# or subsample:\n",
    "\t\t# if set_name == 'train10_train':\n",
    "\t\t# \tmetadata_df_i = metadata_df_i.sample(frac= 0.3, random_state = 123)\n",
    "\t\t\t\n",
    "\t\t\t\n",
    "\t\t# else:\n",
    "\t\t# \tmetadata_df_i = metadata_df_i.sample(frac= 0.15, random_state = 123)\n",
    "\t\t# \tmetadata_df_i.to_csv(input_dir+f'datasets/{set_name}_15perc_metadata.csv')\n"
   ]
  },
  {
   "cell_type": "code",
   "execution_count": null,
   "id": "228f50d5",
   "metadata": {},
   "outputs": [],
   "source": [
    "set_name"
   ]
  },
  {
   "cell_type": "code",
   "execution_count": null,
   "id": "5151ffaf",
   "metadata": {},
   "outputs": [],
   "source": [
    "display(metadata_df_i['suicide_ladder_a'].value_counts())\n",
    "display(metadata_df_i['suicide_ladder_b'].value_counts())\n",
    "display(metadata_df_i['suicide_ladder_c'].value_counts())\n"
   ]
  },
  {
   "cell_type": "markdown",
   "id": "30e6abd8-3a3f-4af1-8a0e-598f28e76f89",
   "metadata": {},
   "source": [
    "# Find messages from metadata.csv files"
   ]
  },
  {
   "cell_type": "code",
   "execution_count": null,
   "id": "03d83ebc-49f7-45cd-8e44-c1b56b81e711",
   "metadata": {},
   "outputs": [],
   "source": [
    "import pandas as pd\n",
    "import pickle\n",
    "\n",
    "\n",
    "set_names = ['train10_train' ,'train10_val','train10_test']"
   ]
  },
  {
   "cell_type": "code",
   "execution_count": null,
   "id": "070f1a64-77ef-4f9e-b073-0e0c50271507",
   "metadata": {},
   "outputs": [],
   "source": [
    "# How many suicide risk do we have?\n",
    "\n",
    "\n",
    "for set_name in set_names:\n",
    "\tmetadata_df_i = pd.read_csv(input_dir+f'datasets/{set_name}_metadata.csv', index_col = 0)\n",
    "\ttags_of_interest_in_df = [n for n in tags_of_interest if n in metadata_df_i.columns]\n",
    "\n",
    "\tcounts = metadata_df_i[tags_of_interest_in_df].sum()\n",
    "\tcounts = pd.DataFrame(counts).reset_index()\n",
    "\tcounts.columns = ['construct', 'count']\n",
    "\tdisplay(counts.sort_values('count')[::-1])\n",
    "\n",
    "\t\n",
    "\n"
   ]
  },
  {
   "cell_type": "code",
   "execution_count": null,
   "id": "cf21350e",
   "metadata": {},
   "outputs": [],
   "source": [
    "display(metadata_df_i['tags_sorted'])\n",
    "display(metadata_df_i[['tags_sorted', 'suicidality_sorted', 'perceived_risk', 'suicide', 'ir_flag', 'active_rescue']])\n",
    "display(metadata_df_i[['ir_flag', 'active_rescue','active_rescue2' ]].sum())\n",
    "display(metadata_df_i[['perceived_risk' ]].value_counts())"
   ]
  },
  {
   "cell_type": "code",
   "execution_count": null,
   "id": "45ce38ed-dd69-4f7e-b1b3-86a5b9d34430",
   "metadata": {},
   "outputs": [],
   "source": [
    "# # Load\n",
    "# df_set = pd.read_csv(input_dir+f'datasets/{set_name}_metadata.csv', index_col = 0)\n",
    "# df_set.shape\n",
    "\n",
    "# # concurrent_df  = pd.read_csv(input_dir+'datasets/train10_train_concurrent_metadata.csv', index_col = 0)\n",
    "\n"
   ]
  },
  {
   "cell_type": "code",
   "execution_count": null,
   "id": "c5b82f02-f7c0-484c-8eca-6a418283245c",
   "metadata": {},
   "outputs": [],
   "source": [
    "conversation_cols = [\n",
    "    'conversation_id',\n",
    "    'conversation_start_time_utc',\n",
    " 'conversation_end_time_utc',\n",
    " 'post_conversation_survey_end_time',\n",
    " 'priority',\n",
    " 'priority_predicted',\n",
    " 'presenting_concern_message_id',\n",
    " 'is_risk_assessed',\n",
    " 'keyword',\n",
    " 'num_wait_time_notifications',\n",
    " 'language']\n",
    "\n",
    "conversation_cols_to_drop = [e for e in conversation_cols if e not in ['conversation_id',\n",
    " 'conversation_start_time_utc']]"
   ]
  },
  {
   "cell_type": "code",
   "execution_count": null,
   "id": "b4429e6d",
   "metadata": {},
   "outputs": [],
   "source": [
    "# metadata_df_ids = metadata_df_i['conversation_id'].values\n",
    "# metadata_df_ids"
   ]
  },
  {
   "cell_type": "code",
   "execution_count": null,
   "id": "5b461691-dc81-42e2-b08a-49f95b00a10e",
   "metadata": {},
   "outputs": [],
   "source": [
    "set_name = 'train10_train'\n",
    "\n",
    "\n",
    "    \n",
    "\n",
    "\n",
    "\n",
    "\n",
    "    "
   ]
  },
  {
   "cell_type": "code",
   "execution_count": null,
   "id": "7b42d154",
   "metadata": {},
   "outputs": [],
   "source": [
    "d.keys()"
   ]
  },
  {
   "cell_type": "code",
   "execution_count": null,
   "id": "dc3297cd-bd5d-4a8a-b707-50af10d97e9d",
   "metadata": {},
   "outputs": [],
   "source": [
    "\n",
    "\n",
    "\n",
    "%%time\n",
    "# 8min\n",
    "# create training DF from convo IDs\n",
    "\n",
    "run_this = True\n",
    "if run_this:\n",
    "\n",
    "\tfor set_name in set_names: \n",
    "\t\tmetadata_df = pd.read_csv(input_dir+f'datasets/{set_name}_metadata.csv', index_col = 0)\n",
    "\n",
    "\t\tmetadata_df_ids = metadata_df['conversation_id'].values\n",
    "\t\twith open(input_dir+f'train_test_split_ids/{set_name}.pkl', 'rb') as f:\n",
    "\t\t\td = pickle.load(f)\n",
    "\n",
    "\n",
    "\n",
    "\t\tdf_set = []\n",
    "\t\tdf_unique_per_conversation_all = []\n",
    "\t\tyears = [2017,2018,2019,2022]\n",
    "\t\t# if toy: \n",
    "\t\t#     years = years[:3]\n",
    "\n",
    "\t\tfor year in years:\n",
    "\t\t\tprint(year, '=======')\n",
    "\t\t\td_year_ids = d.get(year) # get list of conversation_ids in this year\n",
    "\t\t\t\n",
    "\t\t\t\n",
    "\t\t\t\n",
    "\t\t\tdf_year = []\n",
    "\t\t\tfor month in range(1,13):\n",
    "\t\t\t\tprint(month)\n",
    "\t\t\t\tmonth = str(month).zfill(2)\n",
    "\t\t\t\tdf_year_month_i = pd.read_parquet(input_dir+f'raw_data/messages_{year}-{month}.gzip', engine='pyarrow')       \n",
    "\t\t\t\tdf_year.append(df_year_month_i)\n",
    "\t\t\tdf_year = pd.concat(df_year).reset_index(drop=True) # all messages for that year\n",
    "\t\t\n",
    "\t\t\t# else:\n",
    "\t\t\t#     df_year = pd.read_parquet(input_dir+f'raw_data/messages_{year}.gzip', engine='pyarrow') \n",
    "\t\t\t\t\n",
    "\t\t\t# df_set.to_parquet(input_dir+f'datasets/train10_train_concurrent_messages.gzip', compression = 'gzip', engine='pyarrow')        \n",
    "\t\t\t\n",
    "\t\t\t# choose conversation that are in metadata DF of interest\n",
    "\t\t\t\n",
    "\t\t\tdf_year_set = df_year[df_year['conversation_id'].isin(metadata_df_ids)] # NEW\n",
    "\t\t\t# df_year_set = df_year[df_year['conversation_id'].isin(d_year_ids)] # OLD\n",
    "\t\t\t\n",
    "\t\t\t# these messages_df cols are unique within a conversation, so add to metadata_df and remove from messages_df to save space\n",
    "\t\t\tdf_year_unique_per_conversation = df_year_set[conversation_cols] \n",
    "\t\t\tdf_year_unique_per_conversation = df_year_unique_per_conversation.drop_duplicates()\n",
    "\t\t\t\n",
    "\t\t\t\n",
    "\t\t\t# normalize formatting\n",
    "\t\t\t# concurrent_df = concurrent_df.astype(str).reset_index(drop=True)\n",
    "\t\t\t# df_year_unique_per_conversation = df_year_unique_per_conversation.astype(str).reset_index(drop=True)\n",
    "\t\t\tdf_unique_per_conversation_all.append(df_year_unique_per_conversation)\n",
    "\t\t\t# df_year_unique_per_conversation['conversation_start_time_utc'] = pd.to_datetime(df_year_unique_per_conversation['conversation_start_time_utc'])\n",
    "\t\t\t# df_year_unique_per_conversation['conversation_end_time_utc'] = pd.to_datetime(df_year_unique_per_conversation['conversation_end_time_utc'])\n",
    "\t\t\t# df_year_unique_per_conversation['post_conversation_survey_end_time'] = pd.to_datetime(df_year_unique_per_conversation['post_conversation_survey_end_time'])\n",
    "\t\t\t\n",
    "\t\t\t\n",
    "\t\t\t\n",
    "\t\t\t# # todo merge with concurrent\n",
    "\t\t\t# if year == years[0]:            \n",
    "\t\t\t#     # concurrent_df['conversation_start_time_utc'] = pd.to_datetime(concurrent_df['conversation_start_time_utc'])\n",
    "\t\t\t#     concurrent_df = concurrent_df.merge(df_year_unique_per_conversation, on=['conversation_id', 'conversation_start_time_utc'] , how = 'left')    \n",
    "\t\t\t# else:           \n",
    "\t\t\t#     concurrent_df = concurrent_df.merge(df_year_unique_per_conversation, on=conversation_cols, how = 'left')\n",
    "\t\t\t\n",
    "\t\t\t\n",
    "\t\t\tdf_year_set = df_year_set.drop(conversation_cols_to_drop, axis=1)\n",
    "\t\t\t\n",
    "\t\t\t# TODO: uncomment line below\n",
    "\t\t\t# df_year_set.to_parquet(input_dir+f'datasets/train10_train_concurrent_messages_{year}.gzip', compression = 'gzip', engine='pyarrow')        \n",
    "\t\t\t\n",
    "\t\t\tdf_set.append(df_year_set)\n",
    "\n",
    "\t\t# concurrent_df.to_csv(input_dir+'datasets/train10_train_concurrent_metadata2.csv')\n",
    "\t\tdf_set = pd.concat(df_set).reset_index(drop=True)        \n",
    "\t\tdf_set.to_parquet(input_dir+f'datasets/{set_name}_messages.gzip', compression = 'gzip', engine='pyarrow')        \n",
    "\t\tdf_year_texter = df_set[df_set['interaction']=='texter']\n",
    "\t\tdf_year_texter.to_parquet(input_dir+f'datasets/{set_name}_messages_texter.gzip', compression = 'gzip', engine='pyarrow')        \n",
    "\t\tdf_year_counselor = df_set[df_set['interaction']=='counselor']\n",
    "\t\tdf_year_counselor.to_parquet(input_dir+f'datasets/{set_name}_messages_counselor.gzip', compression = 'gzip', engine='pyarrow')        \n",
    "\t\t\n",
    "\t\tdf_unique_per_conversation_all = pd.concat(df_unique_per_conversation_all).reset_index(drop=True)        \n",
    "\t\tdf_unique_per_conversation_all.to_parquet(input_dir+f'datasets/{set_name}_messages_columns_unique_to_convo.gzip', compression = 'gzip', engine='pyarrow')        \n",
    "\t\t\n",
    "\t\t\n",
    "\t\t"
   ]
  },
  {
   "cell_type": "markdown",
   "id": "3b4f8f7c",
   "metadata": {},
   "source": [
    "# Concat messages\n",
    " "
   ]
  },
  {
   "cell_type": "code",
   "execution_count": null,
   "id": "63a5676d",
   "metadata": {},
   "outputs": [],
   "source": [
    "set_names = ['train10_train' ,'train10_val','train10_test']\n",
    "\n",
    "dataset_dir = '/Users/danielmlow/data/ctl/input/datasets/'\n",
    "\n",
    "# sub_dir = 'train10_subset_30', add {sub_dir}/\n",
    "\n",
    "# Text \n",
    "train_texter = pd.read_parquet(dataset_dir + f'{set_names[0]}_messages_texter.gzip', engine='pyarrow')\n",
    "val_texter = pd.read_parquet(dataset_dir + f'{set_names[1]}_messages_texter.gzip', engine='pyarrow')\n",
    "test_texter = pd.read_parquet(dataset_dir + f'{set_names[2]}_messages_texter.gzip', engine='pyarrow')\n",
    "\n",
    "# Both\n",
    "train_both = pd.read_parquet(dataset_dir + f'{set_names[0]}_messages.gzip', engine='pyarrow')\n",
    "val_both = pd.read_parquet(dataset_dir + f'{set_names[1]}_messages.gzip', engine='pyarrow')\n",
    "test_both = pd.read_parquet(dataset_dir + f'{set_names[2]}_messages.gzip', engine='pyarrow')\n",
    "\n",
    "# Metadata (i.e., target variables)\n",
    "train_metadata = pd.read_csv(dataset_dir + f'{set_names[0]}_metadata.csv')\n",
    "val_metadata = pd.read_csv(dataset_dir+ f'{set_names[1]}_metadata.csv')\n",
    "test_metadata = pd.read_csv(dataset_dir + f'{set_names[2]}_metadata.csv')"
   ]
  },
  {
   "cell_type": "code",
   "execution_count": null,
   "id": "3b833502",
   "metadata": {},
   "outputs": [],
   "source": [
    "test_both_i = test_both.copy()\n",
    "\n",
    "column = 'message'\n",
    "test_both_i['user_message'] =test_both_i['interaction']+': '+test_both_i[column]\n",
    "test_both_i['user_message']\n",
    "X_i = '\\n'.join(test_both_i['user_message'].tolist()) # messages of 1 convo\n",
    "print(X_i[:1000])"
   ]
  },
  {
   "cell_type": "code",
   "execution_count": null,
   "id": "2f869889",
   "metadata": {},
   "outputs": [],
   "source": [
    "def merge_concatenated_messages(metadata_df, messages_df,merge_on = 'conversation_id',  column = 'message', new_column = 'text_texter'):\n",
    "\tconvo_ids = []\n",
    "\tX = []\n",
    "\tfor i in metadata_df[merge_on].unique():\n",
    "\t\tmessages_df_i = messages_df[messages_df[merge_on]==i]\n",
    "\t\tif new_column =='text_texter':\n",
    "\t\t\tmessages_convo_i = [n.strip(' ') if n.endswith(('.', ',', ']', ')', '!','?', '>')) else n.strip(' ')+'.' for n in messages_df_i[column].tolist() ]\n",
    "\t\t\tX_i = ' '.join(messages_convo_i) # messages of 1 convo\n",
    "\t\telif new_column =='text_both':\n",
    "\t\t\t# use user column (texter or counselor) to create a single string with counselor: <message> \\n texter: <message> depending on user column\n",
    "\t\t\tmessages_df_i['user_message'] = messages_df_i['interaction']+': '+messages_df_i[column]\n",
    "\t\t\tX_i = '\\n'.join(messages_df_i['user_message'].tolist()) # messages of 1 convo\n",
    "\t\t\t\n",
    "\t\t\n",
    "\t\t# X_i = X_i.replace('\n",
    "\t\tX.append(X_i)\n",
    "\t\tconvo_ids.append(i)\n",
    "\n",
    "\tdf_text = pd.DataFrame({merge_on: convo_ids,\n",
    "\t\t\t\t\t\t\tnew_column:X,\n",
    "\t\t\t\t\t\t})\n",
    "\n",
    "\n",
    "\tmetadata_df = metadata_df.merge(df_text, on=merge_on, how='left')\n",
    "\treturn metadata_df"
   ]
  },
  {
   "cell_type": "code",
   "execution_count": null,
   "id": "cced8259",
   "metadata": {},
   "outputs": [],
   "source": [
    "test_both_i = test_both[['conversation_id', 'message_timestamp_utc', 'actor_id'] + ['interaction', 'message']]\n",
    "print(test_both_i.shape)\n",
    "# Concat messages\n",
    "test_both_i['message_with_interaction'] = test_both_i['interaction']+': '+test_both_i['message']\n",
    "message_with_interaction_concatenated = test_both_i.groupby('conversation_id')['message_with_interaction'].apply('\\n'.join).reset_index()\n",
    "\n",
    "\n",
    "# Last message\n",
    "last_message_timestamp = test_both_i.groupby('conversation_id')['message_timestamp_utc'].last().reset_index()\n",
    "# Actor ID\n",
    "test_both_i_texter = test_both_i[test_both_i['interaction']=='texter']\n",
    "actor_id = test_both_i_texter.groupby('conversation_id')['actor_id'].last().reset_index()\n",
    "\n",
    "test_concat = message_with_interaction_concatenated.merge(last_message_timestamp, on='conversation_id').merge(actor_id, on='conversation_id')\n",
    "\n",
    "\n",
    "print(test_concat.shape)\n"
   ]
  },
  {
   "cell_type": "code",
   "execution_count": null,
   "id": "87d7deb0",
   "metadata": {},
   "outputs": [],
   "source": [
    "set_names"
   ]
  },
  {
   "cell_type": "code",
   "execution_count": null,
   "id": "81bb29f6",
   "metadata": {},
   "outputs": [],
   "source": [
    "for set_name, messages_texter_i, messages_both_i, metadata_i in zip(set_names, [train_texter, val_texter, test_texter], [train_both, val_both, test_both], [train_metadata, val_metadata, test_metadata]):\n",
    "\tprint(set_name)\n",
    "\tconvo_ids = messages_texter_i['conversation_id'].unique().tolist()[:100]\n",
    "\n",
    "\t# subsample\n",
    "\tsubsample = False\n",
    "\tif subsample:\n",
    "\t\tmessages_texter_i = messages_texter_i[messages_texter_i['conversation_id'].isin(convo_ids)]\n",
    "\t\tmessages_both_i = messages_both_i[messages_both_i['conversation_id'].isin(convo_ids)]\n",
    "\t\tmetadata_i = metadata_i[metadata_i['conversation_id'].isin(convo_ids)]\n",
    "\t\n",
    "\t# Both\n",
    "\t# ====================================\n",
    "\tmessages_both_i = messages_both_i[['conversation_id', 'message_timestamp_utc', 'actor_id'] + ['interaction', 'message']]\n",
    "\tprint(messages_both_i.shape)\n",
    "\t# Concat messages\n",
    "\tmessages_both_i['message_with_interaction'] = messages_both_i['interaction']+': '+messages_both_i['message']\n",
    "\tmessage_with_interaction_concatenated = messages_both_i.groupby('conversation_id')['message_with_interaction'].apply('\\n'.join).reset_index()\n",
    "\t# Last message\n",
    "\tlast_message_timestamp = messages_both_i.groupby('conversation_id')['message_timestamp_utc'].last().reset_index()\n",
    "\t# Actor ID\n",
    "\tmessages_both_i_texter = messages_both_i[messages_both_i['interaction']=='texter']\n",
    "\tactor_id = messages_both_i_texter.groupby('conversation_id')['actor_id'].last().reset_index()\n",
    "\tmessages_both_i_concat = message_with_interaction_concatenated.merge(last_message_timestamp, on='conversation_id').merge(actor_id, on='conversation_id')\n",
    "\tprint(messages_both_i_concat.shape)\n",
    "\tmetadata_i = metadata_i.merge(messages_both_i_concat, on='conversation_id', how='left')\n",
    "\tprint(metadata_i.shape)\n",
    "\t# metadata_i.to_parquet(input_dir+f'datasets/{set_name}_metadata_messages_both.gzip', compression = 'gzip', engine='pyarrow')\n",
    "\n",
    "\t# Texter\n",
    "\t# ====================================\n",
    "\tmessages_texter_i = messages_texter_i[['conversation_id', 'message_timestamp_utc', 'actor_id'] + ['interaction', 'message']]\n",
    "\tprint(messages_texter_i.shape)\n",
    "\t# Concat messages\n",
    "\tmessage_with_interaction_concatenated = messages_texter_i.groupby('conversation_id')['message'].apply('\\n'.join).reset_index()\n",
    "\t\n",
    "\tmetadata_i = metadata_i.merge(message_with_interaction_concatenated, on='conversation_id', how='left')\n",
    "\tprint(metadata_i.shape)\n",
    "\t# metadata_i['message_joined'] = metadata_i['message'].replace('\\n', '.')\n",
    "\t# [n.strip(' ') if n.endswith(('.', ',', ']', ')', '!','?', '>')) else n.strip(' ')+'.' for n in messages_df_i[column].tolist() ]\n",
    "\tmetadata_i.to_parquet(input_dir+f'datasets/{set_name}_metadata_messages.gzip', compression = 'gzip', engine='pyarrow')\n",
    "\n",
    "\n",
    "\n",
    "# # Last message\n",
    "\t# last_message_timestamp = messages_texter_i.groupby('conversation_id')['message_timestamp_utc'].last().reset_index()\n",
    "\t# # Actor ID\n",
    "\t# actor_id = messages_texter_i.groupby('conversation_id')['actor_id'].last().reset_index()\n",
    "\t# messages_texter_i_concat = message_with_interaction_concatenated.merge(last_message_timestamp, on='conversation_id').merge(actor_id, on='conversation_id')\n",
    "\t# print(messages_texter_i_concat.shape)"
   ]
  },
  {
   "cell_type": "code",
   "execution_count": null,
   "id": "0b1f50cb",
   "metadata": {},
   "outputs": [],
   "source": [
    "metadata_i"
   ]
  },
  {
   "cell_type": "code",
   "execution_count": null,
   "id": "6bbd5a8c",
   "metadata": {},
   "outputs": [],
   "source": [
    "'body_image' in metadata_i.columns"
   ]
  },
  {
   "cell_type": "code",
   "execution_count": null,
   "id": "816169b0",
   "metadata": {},
   "outputs": [],
   "source": [
    "set_names\n"
   ]
  },
  {
   "cell_type": "code",
   "execution_count": null,
   "id": "685eb93a",
   "metadata": {},
   "outputs": [],
   "source": [
    "ctl_tags13 = ['self_harm',\n",
    " 'suicide',\n",
    " 'bully',\n",
    " 'abuse_physical',\n",
    " 'abuse_sexual',\n",
    " 'relationship',\n",
    " 'bereavement',\n",
    " 'isolated',\n",
    " 'anxiety', #anxiety_stress\n",
    " 'depressed',\n",
    " 'gender', #gender_sexual_identity\n",
    " 'eating', # eating_body_image\n",
    " 'substance']\n",
    "\n",
    "\n",
    "\n",
    "for set_name in set_names:\n",
    "\tmetadata_messages_i = pd.read_parquet(dataset_dir + f'{set_name}_metadata_messages.gzip', engine='pyarrow')\n",
    "\tdisplay(metadata_messages_i[ctl_tags13].sum())\n",
    "\t\n",
    "\n",
    "\n",
    "\t\n",
    "# \t# \n",
    "\n",
    "\n",
    "\t"
   ]
  },
  {
   "cell_type": "code",
   "execution_count": null,
   "id": "d9026dce",
   "metadata": {},
   "outputs": [],
   "source": [
    "minimum_train = 3077\n",
    "minimum_val = 410\n",
    "minimum_test = 376\n",
    "\n",
    "\n",
    "\n",
    "\n"
   ]
  },
  {
   "cell_type": "code",
   "execution_count": null,
   "id": "0c67a7a9",
   "metadata": {},
   "outputs": [],
   "source": [
    "metadata_i_both"
   ]
  },
  {
   "cell_type": "code",
   "execution_count": null,
   "id": "a3119c93",
   "metadata": {},
   "outputs": [],
   "source": [
    "display(metadata_i_texter)\n",
    "display(metadata_i_both)"
   ]
  },
  {
   "cell_type": "code",
   "execution_count": null,
   "id": "2fcec278-81ef-4a0e-a255-add3ee72ff5d",
   "metadata": {},
   "outputs": [],
   "source": [
    "# for set_name in set_names:\n",
    "# \tdf_set = pd.read_parquet(input_dir+f'datasets/{set_name}_messages.gzip', engine='pyarrow')        \n",
    "# \tbreak\n",
    "\n",
    "\n",
    "\n"
   ]
  },
  {
   "cell_type": "code",
   "execution_count": null,
   "id": "5f512dfe",
   "metadata": {},
   "outputs": [],
   "source": [
    "# df_set"
   ]
  },
  {
   "cell_type": "code",
   "execution_count": null,
   "id": "1184dc64",
   "metadata": {},
   "outputs": [],
   "source": [
    "cols_not_added = [n for n in df_year_month_i.columns if n not in df_set.columns]\n",
    "cols_not_added\n"
   ]
  },
  {
   "cell_type": "code",
   "execution_count": null,
   "id": "efb08ef8",
   "metadata": {},
   "outputs": [],
   "source": [
    "for col in df_year_month_i[cols_not_added].columns:\n",
    "\tprint(col)\n",
    "\tdisplay(df_year_month_i[cols_not_added][col].value_counts(normalize=True).iloc[:10])\n"
   ]
  },
  {
   "cell_type": "code",
   "execution_count": null,
   "id": "c73e942f",
   "metadata": {},
   "outputs": [],
   "source": [
    "metadata_df"
   ]
  },
  {
   "cell_type": "markdown",
   "id": "78e63fac-669d-4c32-a988-285b0318e554",
   "metadata": {},
   "source": [
    "# Build tokenized DF"
   ]
  },
  {
   "cell_type": "code",
   "execution_count": null,
   "id": "29823384-4470-4ae0-9ea2-1302ffd20d36",
   "metadata": {},
   "outputs": [],
   "source": [
    "import numpy as np"
   ]
  },
  {
   "cell_type": "code",
   "execution_count": null,
   "id": "c49a2b4c-d3dc-4035-b38d-f2dbb210e45e",
   "metadata": {},
   "outputs": [],
   "source": [
    "# TODO: merge active_si and passive_si, change name of self-injury\n",
    "\n",
    "\n",
    "constructs_to_measure = ['self-injury',\n",
    " 'active_si',\n",
    " 'passive_si',\n",
    " 'bully',\n",
    " 'abuse_physical',\n",
    " 'abuse_sexual',\n",
    " 'relationships',\n",
    " 'grief_bereavement',\n",
    " 'loneliness_isolated',\n",
    " 'anxiety',\n",
    " 'depressed_mood',\n",
    " 'gender_sexual_identity',\n",
    " 'eating_disorder',\n",
    " 'substance_use']\n",
    "\n",
    "\n",
    "\n",
    "# values = ['']*len(constructs_to_measure)\n",
    "# ctl_tags = dict(zip(constructs_to_measure, values))\n",
    "ctl_tags_d = {'self-injury': 'self_harm',\n",
    " 'active_si': 'suicide',\n",
    " 'passive_si': 'suicide',\n",
    " 'bully': 'bully',\n",
    " 'abuse_physical': 'abuse_physical',\n",
    " 'abuse_sexual': 'abuse_sexual',\n",
    " 'relationships': 'relationship',\n",
    " 'grief_bereavement': 'bereavement',\n",
    " 'loneliness_isolated': 'isolated',\n",
    " 'anxiety': 'anxiety_stress',\n",
    " 'depressed_mood': 'depressed',\n",
    " 'gender_sexual_identity': 'gender_sexual_identity',\n",
    " 'eating_disorder': 'eating_body_image',\n",
    " 'substance_use': 'substance'}\n",
    "\n",
    "ctl_tags = np.unique(list(ctl_tags_d.values())).tolist()\n",
    "ctl_tags"
   ]
  },
  {
   "cell_type": "code",
   "execution_count": null,
   "id": "0ad3ae1e-81aa-4e40-b03b-743d0d2c949c",
   "metadata": {},
   "outputs": [],
   "source": [
    "run_this = False\n",
    "if run_this:\n",
    "\n",
    "    df_messages = pd.read_parquet(input_dir+f'datasets/train10_train_concurrent_messages_texter.gzip', engine='pyarrow')        \n",
    "    df_metadata = pd.read_csv(input_dir+f'datasets/train10_train_concurrent_metadata.csv', index_col = 0)\n",
    "    \n",
    "    \n",
    "    df_metadata = df_metadata.drop_duplicates('conversation_id').reset_index(drop=True)\n",
    "    print(df_metadata.shape, df_messages.shape)\n",
    "\n",
    "    # Create a subset of metadata that has at least n_samples of a given construct\n",
    "    n_samples = 100\n",
    "\n",
    "    df_metadata_subsample = []\n",
    "\n",
    "    for n in ctl_tags:\n",
    "        df_metadata_tag = df_metadata[df_metadata[n]==1].sample(n=n_samples,random_state=123)\n",
    "        df_metadata_subsample.append(df_metadata_tag)\n",
    "\n",
    "    df_metadata_subsample = pd.concat(df_metadata_subsample).reset_index(drop=True)\n",
    "    print(df_metadata_subsample.shape)\n",
    "    df_metadata_subsample_tags = df_metadata_subsample[['conversation_id']+ctl_tags]\n",
    "    df_metadata_subsample_tags = df_metadata_subsample_tags.drop_duplicates().reset_index(drop=True)\n",
    "    # print(df_metadata_subsample_tags.shape)\n",
    "    # df_metadata_subsample_tags.to_csv(input_dir+\"multioutput_\"+training_lexicon+'.csv')\n",
    "    \n",
    "    # Find messages for the subsample\n",
    "    df_messages_subsample = df_messages[df_messages['conversation_id'].isin(df_metadata_subsample_tags['conversation_id'])]\n",
    "    df_messages_subsample = df_messages_subsample.drop_duplicates('message_id').reset_index(drop=True)\n",
    "    print(df_metadata_subsample_tags.shape)\n",
    "\n",
    "    # df_test_multioutput_subsample = df_messages_subsample.merge(df_metadata_subsample_tags,on='conversation_id', how='left')\n",
    "    # print(df_test_multioutput_subsample.shape)\n",
    "    # df_test_multioutput_subsample['text'] = df_test_multioutput_subsample['message'] \n",
    "\n",
    "    # # add label column for multi-output training\n",
    "    # # df_test_multioutput_subsample = pd.read_csv(input_dir+\"multioutput_ctl_train10_1266_\"+training_lexicon+'.csv', index_col = 0)\n",
    "    # df_test_multioutput_subsample['labels'] = [np.array(n) for n in df_test_multioutput_subsample[ctl_tags].values]\n",
    "    # df_test_multioutput_subsample = df_test_multioutput_subsample.drop_duplicates('message_id')\n",
    "    # df_test_multioutput_subsample.to_csv(input_dir+\"multioutput_ctl_train10_1266_\"+training_lexicon+'.csv')\n"
   ]
  },
  {
   "cell_type": "code",
   "execution_count": null,
   "id": "e606e4cc-196c-4c9f-b44b-3251e0165422",
   "metadata": {},
   "outputs": [],
   "source": [
    "'SURVEY' in top_texter_messages"
   ]
  },
  {
   "cell_type": "code",
   "execution_count": null,
   "id": "0def6290-cd78-4ea0-8bdc-11269d40efdc",
   "metadata": {},
   "outputs": [],
   "source": [
    "counts = pd.DataFrame(df_messages_subsample['message'].value_counts())\n",
    "\n",
    "# after reviewing, remove top 100 messages, which are a lot of keywords to log in. \n",
    "top_texter_messages = counts.iloc[:100].index.tolist()\n",
    "top_texter_messages.remove('I want to die')\n",
    "top_texter_messages.remove('I need help')\n",
    "print(df_messages_subsample.shape)\n",
    "df_messages_subsample = df_messages_subsample[~df_messages_subsample['message'].isin(top_texter_messages)]\n",
    "print(df_messages_subsample.shape)"
   ]
  },
  {
   "cell_type": "code",
   "execution_count": null,
   "id": "a179075a-ad07-4088-a7ba-6b59af9cfabd",
   "metadata": {},
   "outputs": [],
   "source": [
    "df_messages_subsample"
   ]
  },
  {
   "cell_type": "code",
   "execution_count": null,
   "id": "3780ca02-819e-4970-b0e2-e9b206731d11",
   "metadata": {},
   "outputs": [],
   "source": [
    "df = df_messages_subsample[['conversation_id','message']].groupby(['conversation_id'])['message'].transform(lambda x: '. '.join(x))\n",
    "\n",
    "\n",
    "df"
   ]
  },
  {
   "cell_type": "code",
   "execution_count": null,
   "id": "82e087e3-2977-44a3-a310-21b62e27ad1a",
   "metadata": {},
   "outputs": [],
   "source": [
    "convo_messages = {}\n",
    "\n",
    "for convo_id in df_messages_subsample['conversation_id'].unique():\n",
    "    df_messages_subsample_convo_i = df_messages_subsample[df_messages_subsample['conversation_id']== convo_id]\n",
    "    messages = df_messages_subsample_convo_i['message'].tolist()\n",
    "    # [print(n)  for n in messages if 'scrubbed' in n]\n",
    "    messages = '. '.join([n.strip().strip('.').replace('[scrubbed]', 'Noah').replace('{{PHONE}}', '555-857-2939') for n in messages]) #unisex name\n",
    "    convo_messages[convo_id] = messages"
   ]
  },
  {
   "cell_type": "code",
   "execution_count": null,
   "id": "89779f18-85a9-4bb5-b8e2-ffc44c7480e6",
   "metadata": {},
   "outputs": [],
   "source": [
    "df_metadata_subsample['message'] = df_metadata_subsample['conversation_id'].map(convo_messages)\n",
    "\n",
    "df_metadata_subsample"
   ]
  },
  {
   "cell_type": "code",
   "execution_count": null,
   "id": "6117000f-08ad-4ede-8dd8-83b5ee661e68",
   "metadata": {},
   "outputs": [],
   "source": []
  },
  {
   "cell_type": "code",
   "execution_count": null,
   "id": "9d47a050-f93b-45ec-95c7-d8f36faa5751",
   "metadata": {},
   "outputs": [],
   "source": [
    "df_metadata_subsample.columns"
   ]
  },
  {
   "cell_type": "code",
   "execution_count": null,
   "id": "d4636368-af24-4238-8a58-748574904068",
   "metadata": {},
   "outputs": [],
   "source": [
    "df_metadata_subsample.to_csv(\n",
    "    input_dir+f'datasets/train10_train_concurrent_metadata_100perconstruct_with_messages.csv')\n"
   ]
  },
  {
   "cell_type": "code",
   "execution_count": null,
   "id": "c97c96d5-58ad-4309-9033-4637fffe0db3",
   "metadata": {},
   "outputs": [],
   "source": [
    "input_dir+f'datasets/train10_train_concurrent_metadata_100perconstruct_with_messages.csv'"
   ]
  },
  {
   "cell_type": "code",
   "execution_count": null,
   "id": "5dcce999-2d54-475c-a004-fcec5298fde6",
   "metadata": {},
   "outputs": [],
   "source": []
  },
  {
   "cell_type": "code",
   "execution_count": null,
   "id": "fabaeaf6-1c2a-444a-acd0-548803550258",
   "metadata": {},
   "outputs": [],
   "source": []
  },
  {
   "cell_type": "code",
   "execution_count": null,
   "id": "ab692c4e-d52f-4101-9b37-b74c41827688",
   "metadata": {},
   "outputs": [],
   "source": []
  },
  {
   "cell_type": "markdown",
   "id": "04669e72-32d1-4ffd-ba7d-d0a4bdfdaf4b",
   "metadata": {},
   "source": [
    "### Build small dataset"
   ]
  },
  {
   "cell_type": "code",
   "execution_count": null,
   "id": "54945c35-1cf6-4b91-9a91-5f50f64a248e",
   "metadata": {},
   "outputs": [],
   "source": [
    "import pandas as pd"
   ]
  },
  {
   "cell_type": "code",
   "execution_count": null,
   "id": "51a91b9f-a889-484f-8273-4c40fa26b213",
   "metadata": {},
   "outputs": [],
   "source": [
    "input_dir = './../../../data/ctl/input/'"
   ]
  },
  {
   "cell_type": "code",
   "execution_count": null,
   "id": "fb86be17-1a08-490e-b187-1f82963d76f2",
   "metadata": {},
   "outputs": [],
   "source": [
    "conversation_cols = [\n",
    "    'conversation_id',\n",
    "    'conversation_start_time_utc',\n",
    " 'conversation_end_time_utc',\n",
    " 'post_conversation_survey_end_time',\n",
    " 'priority',\n",
    " 'priority_predicted',\n",
    " 'presenting_concern_message_id',\n",
    " 'is_risk_assessed',\n",
    " 'keyword',\n",
    " 'num_wait_time_notifications',\n",
    " 'language']\n",
    "\n",
    "conversation_cols_to_drop = [e for e in conversation_cols if e not in ['conversation_id',\n",
    " 'conversation_start_time_utc']]"
   ]
  },
  {
   "cell_type": "code",
   "execution_count": null,
   "id": "32917b61-7776-458f-8185-1f6885dfd0a2",
   "metadata": {},
   "outputs": [],
   "source": []
  },
  {
   "cell_type": "code",
   "execution_count": null,
   "id": "216c900d-1951-4545-bc10-f4357fc0d265",
   "metadata": {},
   "outputs": [],
   "source": [
    "input_dir"
   ]
  },
  {
   "cell_type": "code",
   "execution_count": null,
   "id": "e1d7e27b-d0a2-45d3-8a75-881193b843b2",
   "metadata": {},
   "outputs": [],
   "source": [
    "df_metadata = pd.read_csv(input_dir+f'datasets/train10_train_concurrent_metadata.csv', index_col = 0)\n",
    "\n",
    "df_messages = pd.read_parquet(input_dir+f'datasets/train10_train_concurrent_messages_texter.gzip', engine='pyarrow')        "
   ]
  },
  {
   "cell_type": "code",
   "execution_count": null,
   "id": "a5219b17-510b-4123-9af1-48e8f9384747",
   "metadata": {},
   "outputs": [],
   "source": []
  },
  {
   "cell_type": "code",
   "execution_count": null,
   "id": "c08fdf4c-d13b-4370-83fa-d333e43a42d3",
   "metadata": {},
   "outputs": [],
   "source": [
    "for message in message:\n",
    "    "
   ]
  },
  {
   "cell_type": "code",
   "execution_count": null,
   "id": "a662d89b-5167-4cb7-a6bc-38294252ddaa",
   "metadata": {},
   "outputs": [],
   "source": []
  },
  {
   "cell_type": "code",
   "execution_count": null,
   "id": "8f0808fb-2dd0-49d5-857f-309ba671ae65",
   "metadata": {},
   "outputs": [],
   "source": []
  },
  {
   "cell_type": "code",
   "execution_count": null,
   "id": "493829b3-df5e-439d-8b0e-6b1ef35d229e",
   "metadata": {},
   "outputs": [],
   "source": []
  },
  {
   "cell_type": "code",
   "execution_count": null,
   "id": "24f8c568-b266-4fac-a781-0602eceb049e",
   "metadata": {},
   "outputs": [],
   "source": []
  },
  {
   "cell_type": "code",
   "execution_count": null,
   "id": "6a420cbd-3aa2-46da-a228-721149f763a5",
   "metadata": {},
   "outputs": [],
   "source": []
  },
  {
   "cell_type": "code",
   "execution_count": null,
   "id": "6dfbc7e6-2638-41d7-afb7-22a7c74d307f",
   "metadata": {},
   "outputs": [],
   "source": [
    "%%time \n",
    "year = 2017\n",
    "df_year = pd.read_parquet(input_dir+f'raw_data/messages_{year}.gzip', engine='pyarrow')        "
   ]
  },
  {
   "cell_type": "code",
   "execution_count": null,
   "id": "c0982269-9460-4dd3-9ba6-5b8b5f59f1cf",
   "metadata": {},
   "outputs": [],
   "source": [
    "df_year.head()"
   ]
  },
  {
   "cell_type": "code",
   "execution_count": null,
   "id": "b32a2302-2422-4221-b847-6756cb3593bb",
   "metadata": {},
   "outputs": [],
   "source": [
    "\n"
   ]
  },
  {
   "cell_type": "code",
   "execution_count": null,
   "id": "0bbcc375-8553-4170-b9f0-2554022ae067",
   "metadata": {},
   "outputs": [],
   "source": [
    "for n in cols_to_drop:\n",
    "    display(df_year[n].value_counts())"
   ]
  },
  {
   "cell_type": "code",
   "execution_count": null,
   "id": "5cdf4940-fee7-4bd9-a4f9-c4a3c39803a3",
   "metadata": {},
   "outputs": [],
   "source": [
    "concurrent_df.columns"
   ]
  },
  {
   "cell_type": "code",
   "execution_count": null,
   "id": "d0cf9cb8-280a-4e02-b5ce-0d697dacde98",
   "metadata": {},
   "outputs": [],
   "source": [
    "%%time\n",
    "# create training DF from convo IDs\n",
    "\n",
    "run_this = True\n",
    "\n",
    "\n",
    "if run_this:\n",
    "\n",
    "    df_set = []\n",
    "\n",
    "    for year in [2017,2018,2019,2022]:\n",
    "        print(year)\n",
    "        d_year_ids = d.get(year)\n",
    "        a\n",
    "        # df_year.to_parquet(input_dir+f'messages_{year}.gzip', compression = 'gzip', engine='pyarrow')        \n",
    "\n",
    "        df_year_set = df_year[df_year['conversation_id'].isin(d_year_ids)]\n",
    "        df_set.append(df_year_set)\n",
    "\n",
    "\n",
    "    # df_set.to_csv(input_dir+f'../datasets/train10_train_messages.csv')"
   ]
  },
  {
   "cell_type": "code",
   "execution_count": null,
   "id": "bc018b66-35ea-482a-8740-e957b33a0653",
   "metadata": {},
   "outputs": [],
   "source": [
    "df_set = pd.concat(df_set)"
   ]
  },
  {
   "cell_type": "code",
   "execution_count": null,
   "id": "3d8fba9d-2989-4d58-aa8c-7b6d65dab125",
   "metadata": {},
   "outputs": [],
   "source": [
    "    df_set = pd.concat(df_set)\n",
    "    df_set = df_set.reset_index(drop=True)    \n",
    "    os.makedirs(input_dir+f'../datasets', exist_ok=True)\n",
    "    df_set.to_parquet(input_dir+f'../datasets/train10_train_messages.gzip', compression = 'gzip', engine='pyarrow')        "
   ]
  },
  {
   "cell_type": "code",
   "execution_count": null,
   "id": "ff59e5c8-374c-4132-8145-a744750f40cc",
   "metadata": {},
   "outputs": [],
   "source": [
    "df_set"
   ]
  },
  {
   "cell_type": "code",
   "execution_count": null,
   "id": "c8fe4743-8536-41c1-82eb-c6aafd836690",
   "metadata": {},
   "outputs": [],
   "source": [
    "df_set"
   ]
  },
  {
   "cell_type": "code",
   "execution_count": null,
   "id": "36a51d85-60fc-4a47-97ca-ecb775ea9b54",
   "metadata": {},
   "outputs": [],
   "source": [
    "df_set"
   ]
  },
  {
   "cell_type": "markdown",
   "id": "43ea137e-f5e6-4f0d-9095-442774721e71",
   "metadata": {},
   "source": [
    "### Load"
   ]
  },
  {
   "cell_type": "code",
   "execution_count": null,
   "id": "71534a36-c004-4cea-ba64-304118969744",
   "metadata": {},
   "outputs": [],
   "source": [
    "input_dir = './../../../data/ctl/input/'"
   ]
  },
  {
   "cell_type": "code",
   "execution_count": null,
   "id": "b00e5a8a-7415-437c-afee-8330490b3ff8",
   "metadata": {},
   "outputs": [],
   "source": [
    "metadata_df = pd.read_csv(input_dir+'datasets/train10_train_metadata.csv', index_col = 0)"
   ]
  },
  {
   "cell_type": "code",
   "execution_count": null,
   "id": "6170c0ad-738f-4d68-a2df-3e9007a088e7",
   "metadata": {},
   "outputs": [],
   "source": [
    "\n",
    "# messages_df = pd.read_csv(input_dir+'../datasets/train10_train_messages.csv', index_col = 0, lineterminator='\\n')\n"
   ]
  },
  {
   "cell_type": "code",
   "execution_count": null,
   "id": "3cefaaa7-5a4c-443c-b1fa-7b846363a715",
   "metadata": {},
   "outputs": [],
   "source": [
    "messages_df"
   ]
  },
  {
   "cell_type": "code",
   "execution_count": null,
   "id": "7313a106-2134-4af3-b819-a4c1d01c4bfd",
   "metadata": {},
   "outputs": [],
   "source": [
    "messages_df['conversation_id'].unique().shape"
   ]
  },
  {
   "cell_type": "code",
   "execution_count": null,
   "id": "3b101575-3523-4781-bb98-8bc5f4784a6f",
   "metadata": {},
   "outputs": [],
   "source": [
    "metadata_df.shape"
   ]
  },
  {
   "cell_type": "code",
   "execution_count": null,
   "id": "e841a7d4-1bd7-443a-a643-4956caf06d8b",
   "metadata": {},
   "outputs": [],
   "source": [
    "concurrent_df[concurrent_df['isolated']==1]['conversation_id'].values"
   ]
  },
  {
   "cell_type": "code",
   "execution_count": null,
   "id": "5bf3e262-ba31-4633-b5fb-172a15025d88",
   "metadata": {},
   "outputs": [],
   "source": []
  },
  {
   "cell_type": "code",
   "execution_count": null,
   "id": "83c532b4-9e3c-450d-8eb3-918bc70bdf71",
   "metadata": {},
   "outputs": [],
   "source": []
  },
  {
   "cell_type": "code",
   "execution_count": null,
   "id": "ce079593-0dcf-48bd-be91-5aef61bcdab5",
   "metadata": {},
   "outputs": [],
   "source": []
  },
  {
   "cell_type": "code",
   "execution_count": null,
   "id": "004226e7-77dc-40f3-8439-82ba825bbce5",
   "metadata": {},
   "outputs": [],
   "source": []
  },
  {
   "cell_type": "code",
   "execution_count": null,
   "id": "f294d61d-fcfe-4df6-a014-f6dc05ea3dbc",
   "metadata": {},
   "outputs": [],
   "source": []
  },
  {
   "cell_type": "code",
   "execution_count": null,
   "id": "d19e4701-72c6-422d-b4eb-c257bab388a7",
   "metadata": {},
   "outputs": [],
   "source": []
  },
  {
   "cell_type": "code",
   "execution_count": null,
   "id": "f88a0ee2-bde4-44fd-8a6d-23f8d32bdd1f",
   "metadata": {},
   "outputs": [],
   "source": []
  },
  {
   "cell_type": "code",
   "execution_count": null,
   "id": "e96b2bce-590d-47d5-8a30-b6a902bd02c3",
   "metadata": {},
   "outputs": [],
   "source": []
  },
  {
   "cell_type": "code",
   "execution_count": null,
   "id": "90eda365-590f-4679-b24f-fa4fab017fea",
   "metadata": {},
   "outputs": [],
   "source": []
  },
  {
   "cell_type": "markdown",
   "id": "8824d446-5aae-4132-9eaf-33808de1958b",
   "metadata": {},
   "source": [
    "# OLD"
   ]
  },
  {
   "cell_type": "code",
   "execution_count": null,
   "id": "e43f5eda-1e43-400d-ad89-fd2bf92ab24d",
   "metadata": {},
   "outputs": [],
   "source": [
    "metadata_i.columns"
   ]
  },
  {
   "cell_type": "code",
   "execution_count": null,
   "id": "4e6454d1-161c-4405-b5bb-9bd2c0f75a9d",
   "metadata": {},
   "outputs": [],
   "source": [
    "binary_columns = ['ir_flag', 'active_rescue','abuse', 'abuse_emotional',\n",
    "       'abuse_physical', 'abuse_sexual', 'anger', 'anxiety', 'bereavement',\n",
    "       'bully', 'depressed', 'domestic_violence', 'eating', 'election',\n",
    "       'friend', 'gender', 'homeless', 'housing', 'hunger', 'isolated',\n",
    "       'lgbtq', 'medical', 'military', 'none', 'other', 'prank', 'pregnancy',\n",
    "       'relationship', 'self_harm', 'sexual_abuse', 'stress_anxiety',\n",
    "       'substance', 'suicide', 'testing', 'suicidal_capability',\n",
    "       'suicidal_desire', 'suicidal_intent', 'timeframe']"
   ]
  },
  {
   "cell_type": "code",
   "execution_count": null,
   "id": "7f2dcfb8-2336-47d0-9af4-2df35548ce9d",
   "metadata": {},
   "outputs": [],
   "source": []
  },
  {
   "cell_type": "code",
   "execution_count": null,
   "id": "8c6bf260-1be0-4de6-853b-b5a62990e43b",
   "metadata": {},
   "outputs": [],
   "source": [
    "messages_i['actor_id'].value_counts()"
   ]
  },
  {
   "cell_type": "code",
   "execution_count": null,
   "id": "c702bfef-7d9d-46b1-8cd0-5f3fa8cae22f",
   "metadata": {},
   "outputs": [],
   "source": [
    "metadata_i['active_rescue2'].shape"
   ]
  },
  {
   "cell_type": "code",
   "execution_count": null,
   "id": "2bca5e38-f2b4-415c-8f19-7e40e62ba99c",
   "metadata": {},
   "outputs": [],
   "source": [
    "\n",
    "(metadata_i['ir_flag']==metadata_i['active_rescue2']).sum()/metadata_i.shape[0]"
   ]
  },
  {
   "cell_type": "code",
   "execution_count": null,
   "id": "212d3002-f1ae-47b2-8a64-2cb243ae2d14",
   "metadata": {},
   "outputs": [],
   "source": [
    "metadata_i[metadata_i['active_rescue']==1]"
   ]
  },
  {
   "cell_type": "code",
   "execution_count": null,
   "id": "2d47e988-3c28-4429-a1ce-15dbc72e936e",
   "metadata": {},
   "outputs": [],
   "source": [
    "year_month = '2022-12'\n",
    "messages_i = pd.read_parquet(input_dir+f'messages_{year_month}.gzip', engine='pyarrow')        "
   ]
  },
  {
   "cell_type": "code",
   "execution_count": null,
   "id": "a2a4d638-5d90-4912-a717-c7bc0f0272c8",
   "metadata": {},
   "outputs": [],
   "source": [
    "for i in [8030479,8030508, 8030786, 8031145]:\n",
    "    print(i)\n",
    "    print(messages_i[messages_i['conversation_id']==i][['interaction', 'message']].values)"
   ]
  },
  {
   "cell_type": "code",
   "execution_count": null,
   "id": "909bdccd-18c6-44a5-aeef-158a2429eace",
   "metadata": {},
   "outputs": [],
   "source": [
    "tag_cols = ['abuse', 'abuse_emotional',\n",
    "       'abuse_physical', 'abuse_sexual', 'anger', 'anxiety', 'bereavement',\n",
    "       'bully', 'depressed', 'domestic_violence', 'eating', 'election',\n",
    "       'friend', 'gender', 'homeless', 'housing', 'hunger', 'isolated',\n",
    "       'lgbtq', 'medical', 'military', 'none', 'other', 'prank', 'pregnancy',\n",
    "       'relationship', 'self_harm', 'sexual_abuse', 'stress_anxiety',\n",
    "       'substance', 'suicide', 'testing', 'suicidal_capability',\n",
    "       'suicidal_desire', 'suicidal_intent', 'timeframe', 'perceived_risk']"
   ]
  },
  {
   "cell_type": "code",
   "execution_count": null,
   "id": "c3694af6-ce7e-4652-9a10-b4fed81f6d18",
   "metadata": {},
   "outputs": [],
   "source": [
    "print(metadata_i.shape)\n",
    "print(metadata_i[metadata_i['engaged']==0].shape)"
   ]
  },
  {
   "cell_type": "code",
   "execution_count": null,
   "id": "635f0dd9-2538-4bcb-b665-8662693ba1c6",
   "metadata": {},
   "outputs": [],
   "source": [
    "metadata_i[metadata_i['engaged']==0][tag_cols].sum()"
   ]
  },
  {
   "cell_type": "code",
   "execution_count": null,
   "id": "63a7cb5c-83f7-4dcb-a72f-6a6615de461d",
   "metadata": {},
   "outputs": [],
   "source": [
    "metadata_i[(metadata_i['engaged']==0) & (metadata_i['relationship']==1)]"
   ]
  },
  {
   "cell_type": "code",
   "execution_count": null,
   "id": "2b86a688-7638-4028-b303-b50fbf795563",
   "metadata": {},
   "outputs": [],
   "source": []
  },
  {
   "cell_type": "code",
   "execution_count": null,
   "id": "7a8c6b5f-e5c4-4ea3-a3cb-721d88a13b4b",
   "metadata": {},
   "outputs": [],
   "source": [
    "for i in [697402,697657, 698727, 683578, 700002]:\n",
    "    print(i)\n",
    "    print(messages_i[messages_i['conversation_id']==i][['interaction', 'message']].values)"
   ]
  },
  {
   "cell_type": "code",
   "execution_count": null,
   "id": "9dc18924-3819-4fb6-a66a-33d4e12298f4",
   "metadata": {},
   "outputs": [],
   "source": [
    "for year_month in year_months:\n",
    "    messages_i = pd.read_parquet(input_dir+f'messages_{year_month}.gzip', engine='pyarrow')        \n",
    "    break"
   ]
  },
  {
   "cell_type": "code",
   "execution_count": null,
   "id": "4d4415d4-1a9b-412a-83f2-3521cb3a4db1",
   "metadata": {},
   "outputs": [],
   "source": [
    "messages_i.sum()"
   ]
  },
  {
   "cell_type": "code",
   "execution_count": null,
   "id": "66110dc3-f79a-4c30-926c-420085a82146",
   "metadata": {},
   "outputs": [],
   "source": [
    "for i in [700001,700005, 700009]:\n",
    "    print(i)\n",
    "    print(messages_i[messages_i['conversation_id']==i][['interaction', 'message']].values)"
   ]
  },
  {
   "cell_type": "code",
   "execution_count": null,
   "id": "875bf221-669c-4b0e-a9be-f5b0894a72f6",
   "metadata": {},
   "outputs": [],
   "source": [
    "year_month = '2016-04'\n",
    "messages_i = pd.read_parquet(input_dir+f'messages_{year_month}.gzip', engine='pyarrow')        "
   ]
  },
  {
   "cell_type": "code",
   "execution_count": null,
   "id": "416abaeb-bfd0-499e-8598-2473c5cfa551",
   "metadata": {},
   "outputs": [],
   "source": [
    "year_month = '2017-01'\n",
    "messages_17 = pd.read_parquet(input_dir+f'messages_{year_month}.gzip', engine='pyarrow')        "
   ]
  },
  {
   "cell_type": "code",
   "execution_count": null,
   "id": "d8c3b4a6-a6d4-4716-bd6f-cd9a021fb997",
   "metadata": {},
   "outputs": [],
   "source": [
    "messages_17"
   ]
  },
  {
   "cell_type": "code",
   "execution_count": null,
   "id": "bade6127-3397-4d9c-8464-3565b5cda3a1",
   "metadata": {},
   "outputs": [],
   "source": [
    "cols = ['conversation_id', 'actor_id']"
   ]
  },
  {
   "cell_type": "code",
   "execution_count": null,
   "id": "5feab9fe-2004-4bbd-8685-868b97ade14a",
   "metadata": {},
   "outputs": [],
   "source": [
    "%%time\n",
    "convo_actor_ids = {}\n",
    "\n",
    "\n",
    "for convo_id in messages_i['conversation_id'].values:\n",
    "    convo_actor_ids[convo_id] = len(messages_i[messages_i['conversation_id'] == convo_id]['actor_id'].unique())\n",
    "    \n",
    "    \n",
    "    \n",
    "    \n"
   ]
  },
  {
   "cell_type": "code",
   "execution_count": null,
   "id": "3b59ed38-a477-4676-ab3e-7b30bc9435a0",
   "metadata": {},
   "outputs": [],
   "source": [
    "pd.DataFrame(convo_actor_ids)"
   ]
  },
  {
   "cell_type": "code",
   "execution_count": null,
   "id": "a48d8bab-8f32-4191-a887-0626762bb8e6",
   "metadata": {},
   "outputs": [],
   "source": [
    "\n",
    "\n",
    "messages_i.groupby(cols)['actor_id'].count()"
   ]
  },
  {
   "cell_type": "code",
   "execution_count": null,
   "id": "de920bd6-5122-43b8-aeae-4debe1c07466",
   "metadata": {},
   "outputs": [],
   "source": [
    "print(messages_i[messages_i['conversation_id']==360679]['id'].unique())\n",
    "messages_i[messages_i['conversation_id']==360679]['id']"
   ]
  },
  {
   "cell_type": "code",
   "execution_count": null,
   "id": "8eba8359-d5b4-46f5-ae89-00a8038ad82a",
   "metadata": {},
   "outputs": [],
   "source": [
    "messages_i[messages_i['conversation_id']==360679]['message'].values"
   ]
  },
  {
   "cell_type": "code",
   "execution_count": null,
   "id": "af56062d-1b55-473d-a429-43af422b55d5",
   "metadata": {},
   "outputs": [],
   "source": [
    "messages_i"
   ]
  },
  {
   "cell_type": "code",
   "execution_count": null,
   "id": "9d2e32ea-9a10-41cb-b8d1-95053943f3a6",
   "metadata": {},
   "outputs": [],
   "source": [
    "messages_17"
   ]
  },
  {
   "cell_type": "code",
   "execution_count": null,
   "id": "e773fd8b-6867-424a-83a8-f01294a6c2ab",
   "metadata": {},
   "outputs": [],
   "source": [
    "year_month = '2017-01'\n",
    "messages_17 = pd.read_parquet(input_dir+f'messages_{year_month}.gzip', engine='pyarrow')        "
   ]
  },
  {
   "cell_type": "code",
   "execution_count": null,
   "id": "d7d093cc-fb8b-4ab8-9a34-64e4c2a5e5db",
   "metadata": {},
   "outputs": [],
   "source": [
    "messages_17"
   ]
  },
  {
   "cell_type": "code",
   "execution_count": null,
   "id": "9e504884-2e25-4700-9c23-0facb4040168",
   "metadata": {},
   "outputs": [],
   "source": [
    "metadata_i[metadata_i['depressed']==1]"
   ]
  },
  {
   "cell_type": "code",
   "execution_count": null,
   "id": "7c30b904-e2b1-4399-884a-501b41fcd99d",
   "metadata": {},
   "outputs": [],
   "source": []
  }
 ],
 "metadata": {
  "kernelspec": {
   "display_name": "Python 3",
   "language": "python",
   "name": "python3"
  },
  "language_info": {
   "codemirror_mode": {
    "name": "ipython",
    "version": 3
   },
   "file_extension": ".py",
   "mimetype": "text/x-python",
   "name": "python",
   "nbconvert_exporter": "python",
   "pygments_lexer": "ipython3",
   "version": "3.11.5"
  }
 },
 "nbformat": 4,
 "nbformat_minor": 5
}
